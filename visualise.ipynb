{
 "cells": [
  {
   "cell_type": "code",
   "execution_count": 8,
   "id": "c923feb7",
   "metadata": {},
   "outputs": [
    {
     "name": "stdout",
     "output_type": "stream",
     "text": [
      "Using matplotlib backend: QtAgg\n"
     ]
    }
   ],
   "source": [
    "%matplotlib\n",
    "import numpy as np\n",
    "import matplotlib.pyplot as plt\n",
    "from mpl_toolkits.mplot3d import Axes3D\n",
    "\n",
    "from clustering import fit_spectral, get_clusters_from_model, get_means_from_spectral\n",
    "from colours import COLOURS\n",
    "from conversions import hex_to_hsv, hex_to_lab, hex_to_rgb\n",
    "\n",
    "\n",
    "def transpose(colours):\n",
    "    return [\n",
    "        [colour[i] for colour in colours]\n",
    "        for i in range(3)\n",
    "    ]\n",
    "\n",
    "def plot(model, colours, clusters):\n",
    "    fig = plt.figure()\n",
    "    # ax = Axes3D(fig, rect=[0, 0, 0.95, 1], elev=48, azim=134)\n",
    "    ax = Axes3D(fig, elev=15)\n",
    "    ax.set_axis_off()\n",
    "    rgb_colours = [hex_to_rgb(colour) for colour in colours]\n",
    "    hsv_colours = [hex_to_hsv(colour) for colour in colours]\n",
    "    lab_colours = [hex_to_lab(colour) for colour in colours]\n",
    "    centres = get_means_from_spectral(clusters)\n",
    "    edge_colours = [centres[label] for label in model.labels_]\n",
    "    ax.scatter(\n",
    "        *transpose(lab_colours),\n",
    "        c=colours,\n",
    "        edgecolor=edge_colours,\n",
    "#         edgecolor=edge_colours,\n",
    "        marker='o',\n",
    "        s=100\n",
    "        # linewidth=3,\n",
    "        # cmap=plt.cm.spectral,\n",
    "    )\n",
    "    fig.show()\n",
    "#     fig.savefig('scatter.png')\n"
   ]
  },
  {
   "cell_type": "code",
   "execution_count": 9,
   "id": "00add218",
   "metadata": {},
   "outputs": [
    {
     "name": "stderr",
     "output_type": "stream",
     "text": [
      "/tmp/ipykernel_31094/954467289.py:20: MatplotlibDeprecationWarning: Axes3D(fig) adding itself to the figure is deprecated since 3.4. Pass the keyword argument auto_add_to_figure=False and use fig.add_axes(ax) to suppress this warning. The default value of auto_add_to_figure will change to False in mpl3.5 and True values will no longer work in 3.6.  This is consistent with other Axes classes.\n",
      "  ax = Axes3D(fig, elev=15)\n"
     ]
    }
   ],
   "source": [
    "colours = COLOURS\n",
    "model = fit_spectral(colours, 15)\n",
    "clusters = get_clusters_from_model(colours, model)\n",
    "plot(model, colours, clusters)"
   ]
  },
  {
   "cell_type": "code",
   "execution_count": null,
   "id": "83d18d70",
   "metadata": {},
   "outputs": [],
   "source": []
  }
 ],
 "metadata": {
  "interpreter": {
   "hash": "1fcd4371947a267ac0382b3caa7b5cb4597aa526c05ebb37b5a3236c353d63fe"
  },
  "kernelspec": {
   "display_name": "Python 3 (ipykernel)",
   "language": "python",
   "name": "python3"
  },
  "language_info": {
   "codemirror_mode": {
    "name": "ipython",
    "version": 3
   },
   "file_extension": ".py",
   "mimetype": "text/x-python",
   "name": "python",
   "nbconvert_exporter": "python",
   "pygments_lexer": "ipython3",
   "version": "3.10.1"
  }
 },
 "nbformat": 4,
 "nbformat_minor": 5
}
